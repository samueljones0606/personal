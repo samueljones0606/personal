{
 "cells": [
  {
   "cell_type": "code",
   "execution_count": 12,
   "metadata": {
    "collapsed": false
   },
   "outputs": [
    {
     "data": {
      "text/plain": [
       "[<matplotlib.lines.Line2D at 0xb04d048>]"
      ]
     },
     "execution_count": 12,
     "metadata": {},
     "output_type": "execute_result"
    },
    {
     "data": {
      "image/png": "[encoded data removed]",
      "text/plain": [
       "<matplotlib.figure.Figure at 0xacb1208>"
      ]
     },
     "metadata": {},
     "output_type": "display_data"
    }
   ],
   "source": [
    "import numpy as np\n",
    "import pandas as pd\n",
    "import matplotlib.pyplot as plt\n",
    "\n",
    "import datetime\n",
    "\n",
    "%matplotlib inline\n",
    "\n",
    "from math import exp\n",
    "\n",
    "class CDS:\n",
    "    def price():\n",
    "        return 1.0;\n",
    "    def protection_leg_value(rate, spread, recovery, maturity):\n",
    "        return (1-recovery) * (spread/(rate+spread)) * (1.0-exp(-(rate+spread)*maturity))\n",
    "    def coupon_value(coupon_rate, t0, t1, t, r, l):\n",
    "        if t>=t1:\n",
    "            return 0.0\n",
    "        tstart = max(t-t0,0)\n",
    "        tend = t1-t\n",
    "        (t1/(r+l)-1/((r+l)**2))*exp(-r+l)*\n",
    "\n",
    "r = 0.3*\n",
    "l = 0.1\n",
    "\n",
    "t0 = datetime.datetime(2016,1,1)\n",
    "\n",
    "interval = lambda t : (t-t0).total_seconds()/datetime.timedelta(days=1).total_seconds()/365.0\n",
    "\n",
    "n = 5\n",
    "dates = [datetime.datetime(start.year+i, start.month, start.day) for i in range(n+1)]\n",
    "\n",
    "tpoints = [interval(dt) for dt in dates]\n",
    "\n",
    "P = lambda t: exp(-r*t)\n",
    "Q = lambda t: exp(-l*t)\n",
    "U = lambda t: exp(-(r+l)*t)\n",
    "\n",
    "Pdate = lambda date: P(interval(date))\n",
    "Qdate = lambda date: Q(interval(date))\n",
    "Udate = lambda date: R(interval(date))\n",
    "\n",
    "maturities = np.arange(0,100,0.01)\n",
    "#plt.plot(maturities, np.vectorize(P)(maturities))\n",
    "#plt.plot(maturities, np.vectorize(Q)(maturities))\n",
    "\n",
    "recovery_rate = 0.4\n",
    "\n",
    "protection_leg = lambda t : (1-recovery_rate)*r/(r+l)*(1-U(t))\n",
    "\n",
    "plt.plot(maturities, np.vectorize(protection_leg)(maturities))\n",
    "\n",
    "\n"
   ]
  },
  {
   "cell_type": "code",
   "execution_count": null,
   "metadata": {},
   "outputs": [],
   "source": []
  },
  {
   "cell_type": "code",
   "execution_count": null,
   "metadata": {
    "collapsed": true
   },
   "outputs": [],
   "source": []
  }
 ],
 "metadata": {
  "kernelspec": {
   "display_name": "Python 3",
   "language": "python",
   "name": "python3"
  },
  "language_info": {
   "codemirror_mode": {
    "name": "ipython",
    "version": 3
   },
   "file_extension": ".py",
   "mimetype": "text/x-python",
   "name": "python",
   "nbconvert_exporter": "python",
   "pygments_lexer": "ipython3",
   "version": "3.6.7"
  }
 },
 "nbformat": 4,
 "nbformat_minor": 2
}
