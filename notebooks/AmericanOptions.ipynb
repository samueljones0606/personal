{
 "cells": [
  {
   "cell_type": "code",
   "execution_count": 4,
   "metadata": {
    "collapsed": false
   },
   "outputs": [],
   "source": [
    "import matplotlib.pyplot as plt\n",
    "import numpy as np\n",
    "import pandas as pd\n",
    "import datetime\n",
    "import seaborn as sns\n",
    "import plotly as py\n",
    "from scipy.stats import norm\n",
    "\n",
    "import os"
   ]
  },
  {
   "cell_type": "code",
   "execution_count": 23,
   "metadata": {
    "collapsed": false
   },
   "outputs": [
    {
     "data": {
      "text/html": [
       "<div>\n",
       "<table border=\"1\" class=\"dataframe\">\n",
       "  <thead>\n",
       "    <tr style=\"text-align: right;\">\n",
       "      <th></th>\n",
       "      <th>Calls</th>\n",
       "      <th>Last Sale</th>\n",
       "      <th>Net</th>\n",
       "      <th>Bid</th>\n",
       "      <th>Ask</th>\n",
       "      <th>Vol</th>\n",
       "      <th>Open Int</th>\n",
       "      <th>Puts</th>\n",
       "      <th>Last Sale.1</th>\n",
       "      <th>Net.1</th>\n",
       "      <th>Bid.1</th>\n",
       "      <th>Ask.1</th>\n",
       "      <th>Vol.1</th>\n",
       "      <th>Open Int.1</th>\n",
       "    </tr>\n",
       "  </thead>\n",
       "  <tbody>\n",
       "    <tr>\n",
       "      <th>0</th>\n",
       "      <td>2018 Aug 15 1700.00 (SPXW1815H1700)</td>\n",
       "      <td>0.0</td>\n",
       "      <td>0.0</td>\n",
       "      <td>1106.5</td>\n",
       "      <td>1130.1</td>\n",
       "      <td>0</td>\n",
       "      <td>0</td>\n",
       "      <td>2018 Aug 15 1700.00 (SPXW1815T1700)</td>\n",
       "      <td>0.30</td>\n",
       "      <td>0.0</td>\n",
       "      <td>0.0</td>\n",
       "      <td>0.05</td>\n",
       "      <td>0</td>\n",
       "      <td>822</td>\n",
       "    </tr>\n",
       "    <tr>\n",
       "      <th>1</th>\n",
       "      <td>2018 Aug 15 1700.00 (SPXW1815H1700-E)</td>\n",
       "      <td>0.0</td>\n",
       "      <td>0.0</td>\n",
       "      <td>1106.5</td>\n",
       "      <td>1130.1</td>\n",
       "      <td>0</td>\n",
       "      <td>0</td>\n",
       "      <td>2018 Aug 15 1700.00 (SPXW1815T1700-E)</td>\n",
       "      <td>0.30</td>\n",
       "      <td>0.0</td>\n",
       "      <td>0.0</td>\n",
       "      <td>0.05</td>\n",
       "      <td>0</td>\n",
       "      <td>822</td>\n",
       "    </tr>\n",
       "    <tr>\n",
       "      <th>2</th>\n",
       "      <td>2018 Aug 15 1800.00 (SPXW1815H1800)</td>\n",
       "      <td>0.0</td>\n",
       "      <td>0.0</td>\n",
       "      <td>1006.1</td>\n",
       "      <td>1030.0</td>\n",
       "      <td>0</td>\n",
       "      <td>0</td>\n",
       "      <td>2018 Aug 15 1800.00 (SPXW1815T1800)</td>\n",
       "      <td>0.10</td>\n",
       "      <td>0.0</td>\n",
       "      <td>0.0</td>\n",
       "      <td>0.05</td>\n",
       "      <td>0</td>\n",
       "      <td>487</td>\n",
       "    </tr>\n",
       "    <tr>\n",
       "      <th>3</th>\n",
       "      <td>2018 Aug 15 1800.00 (SPXW1815H1800-E)</td>\n",
       "      <td>0.0</td>\n",
       "      <td>0.0</td>\n",
       "      <td>1006.1</td>\n",
       "      <td>1030.0</td>\n",
       "      <td>0</td>\n",
       "      <td>0</td>\n",
       "      <td>2018 Aug 15 1800.00 (SPXW1815T1800-E)</td>\n",
       "      <td>0.10</td>\n",
       "      <td>0.0</td>\n",
       "      <td>0.0</td>\n",
       "      <td>0.05</td>\n",
       "      <td>0</td>\n",
       "      <td>487</td>\n",
       "    </tr>\n",
       "    <tr>\n",
       "      <th>4</th>\n",
       "      <td>2018 Aug 15 1850.00 (SPXW1815H1850)</td>\n",
       "      <td>0.0</td>\n",
       "      <td>0.0</td>\n",
       "      <td>956.3</td>\n",
       "      <td>980.0</td>\n",
       "      <td>0</td>\n",
       "      <td>0</td>\n",
       "      <td>2018 Aug 15 1850.00 (SPXW1815T1850)</td>\n",
       "      <td>0.15</td>\n",
       "      <td>0.0</td>\n",
       "      <td>0.0</td>\n",
       "      <td>0.05</td>\n",
       "      <td>0</td>\n",
       "      <td>155</td>\n",
       "    </tr>\n",
       "  </tbody>\n",
       "</table>\n",
       "</div>"
      ],
      "text/plain": [
       "                                   Calls  Last Sale  Net     Bid     Ask  Vol  \\\n",
       "0    2018 Aug 15 1700.00 (SPXW1815H1700)        0.0  0.0  1106.5  1130.1    0   \n",
       "1  2018 Aug 15 1700.00 (SPXW1815H1700-E)        0.0  0.0  1106.5  1130.1    0   \n",
       "2    2018 Aug 15 1800.00 (SPXW1815H1800)        0.0  0.0  1006.1  1030.0    0   \n",
       "3  2018 Aug 15 1800.00 (SPXW1815H1800-E)        0.0  0.0  1006.1  1030.0    0   \n",
       "4    2018 Aug 15 1850.00 (SPXW1815H1850)        0.0  0.0   956.3   980.0    0   \n",
       "\n",
       "   Open Int                                   Puts  Last Sale.1  Net.1  Bid.1  \\\n",
       "0         0    2018 Aug 15 1700.00 (SPXW1815T1700)         0.30    0.0    0.0   \n",
       "1         0  2018 Aug 15 1700.00 (SPXW1815T1700-E)         0.30    0.0    0.0   \n",
       "2         0    2018 Aug 15 1800.00 (SPXW1815T1800)         0.10    0.0    0.0   \n",
       "3         0  2018 Aug 15 1800.00 (SPXW1815T1800-E)         0.10    0.0    0.0   \n",
       "4         0    2018 Aug 15 1850.00 (SPXW1815T1850)         0.15    0.0    0.0   \n",
       "\n",
       "   Ask.1  Vol.1  Open Int.1  \n",
       "0   0.05      0         822  \n",
       "1   0.05      0         822  \n",
       "2   0.05      0         487  \n",
       "3   0.05      0         487  \n",
       "4   0.05      0         155  "
      ]
     },
     "execution_count": 23,
     "metadata": {},
     "output_type": "execute_result"
    }
   ],
   "source": [
    "path = os.path.join(os.getcwd(),\"..\",\"data\",\"\",\"quotedata.csv\")\n",
    "#path = os.path.join(os.getcwd(),\"..\",\"data\",\"\",\"pokemon.csv\")\n",
    "pd.read_csv(path, skiprows=2).head()"
   ]
  },
  {
   "cell_type": "markdown",
   "metadata": {},
   "source": [
    "$$dX_t = \\mu X_t dt+\\sigma X_t dW_t$$\n",
    "$$X_t=X_0\\exp((\\mu-\\frac 12\\sigma^2)t+\\sigma W_t)$$\n",
    "$$ln X_t\\sim N(\\ln X_0+(\\mu-\\frac 12\\sigma^2)t, \\sigma^2t)$$"
   ]
  },
  {
   "cell_type": "markdown",
   "metadata": {},
   "source": [
    "# A PDE pricer for American options"
   ]
  },
  {
   "cell_type": "markdown",
   "metadata": {},
   "source": [
    "First of all we want to build a robust PDE pricer for European style options. Recall that the Black-Scholes PDE (ignoring rates and dividends) is\n",
    "$$\\frac{dC}{dt}+\\frac 12\\sigma^2\\frac{d^22C}{dS^2}=0$$\n",
    "with the boundary conditions\n",
    "$$"
   ]
  },
  {
   "cell_type": "code",
   "execution_count": 13,
   "metadata": {
    "collapsed": false
   },
   "outputs": [],
   "source": [
    "strike = 3.141\n",
    "forward = 2.7\n",
    "date_start = datetime.datetime(2018,1,1)\n",
    "date_end = datetime.datetime(2019,1,1)\n",
    "volatility = 0.2\n",
    "\n",
    "epoch = datetime.datetime.utcfromtimestamp(0)\n",
    "seconds_per_year = 365*24*60*60"
   ]
  },
  {
   "cell_type": "code",
   "execution_count": 14,
   "metadata": {
    "collapsed": false
   },
   "outputs": [
    {
     "ename": "NameError",
     "evalue": "name 'numpy' is not defined",
     "output_type": "error",
     "traceback": [
      "\u001b[0;31m---------------------------------------------------------------------------\u001b[0m",
      "\u001b[0;31mNameError\u001b[0m                                 Traceback (most recent call last)",
      "\u001b[0;32m<ipython-input-14-215ce52634d5>\u001b[0m in \u001b[0;36m<module>\u001b[0;34m()\u001b[0m\n\u001b[1;32m      5\u001b[0m \u001b[0mt\u001b[0m \u001b[1;33m=\u001b[0m \u001b[0mnp\u001b[0m\u001b[1;33m.\u001b[0m\u001b[0mlinspace\u001b[0m\u001b[1;33m(\u001b[0m\u001b[0mt\u001b[0m\u001b[1;33m,\u001b[0m\u001b[0mT\u001b[0m\u001b[1;33m,\u001b[0m\u001b[1;36m101\u001b[0m\u001b[1;33m)\u001b[0m\u001b[1;33m\u001b[0m\u001b[0m\n\u001b[1;32m      6\u001b[0m \u001b[1;33m\u001b[0m\u001b[0m\n\u001b[0;32m----> 7\u001b[0;31m \u001b[0mp\u001b[0m \u001b[1;33m=\u001b[0m \u001b[0mnumpy\u001b[0m\u001b[1;33m.\u001b[0m\u001b[0marray\u001b[0m\u001b[1;33m(\u001b[0m\u001b[1;33m(\u001b[0m\u001b[0mlen\u001b[0m\u001b[1;33m(\u001b[0m\u001b[0mt\u001b[0m\u001b[1;33m)\u001b[0m\u001b[1;33m,\u001b[0m \u001b[0mlen\u001b[0m\u001b[1;33m(\u001b[0m\u001b[0mK\u001b[0m\u001b[1;33m)\u001b[0m\u001b[1;33m)\u001b[0m\u001b[1;33m)\u001b[0m\u001b[1;33m\u001b[0m\u001b[0m\n\u001b[0m\u001b[1;32m      8\u001b[0m \u001b[1;33m\u001b[0m\u001b[0m\n\u001b[1;32m      9\u001b[0m \u001b[0ma\u001b[0m \u001b[1;33m=\u001b[0m \u001b[0mnumpy\u001b[0m\u001b[1;33m.\u001b[0m\u001b[0mfull\u001b[0m\u001b[1;33m(\u001b[0m\u001b[1;33m(\u001b[0m\u001b[0mlen\u001b[0m\u001b[1;33m(\u001b[0m\u001b[0mt\u001b[0m\u001b[1;33m)\u001b[0m\u001b[1;33m,\u001b[0m \u001b[0mlen\u001b[0m\u001b[1;33m(\u001b[0m\u001b[0mK\u001b[0m\u001b[1;33m)\u001b[0m\u001b[1;33m)\u001b[0m\u001b[1;33m,\u001b[0m \u001b[1;36m0.03\u001b[0m\u001b[1;33m)\u001b[0m\u001b[1;33m\u001b[0m\u001b[0m\n",
      "\u001b[0;31mNameError\u001b[0m: name 'numpy' is not defined"
     ]
    }
   ],
   "source": [
    "T = (date_end-epoch).total_seconds() / seconds_per_year\n",
    "t = (date_start-epoch).total_seconds() / seconds_per_year\n",
    "F = 1.23\n",
    "K = np.linspace(0.7,1.3,101)\n",
    "t = np.linspace(t,T,101)\n",
    "\n",
    "p = numpy.array((len(t), len(K)))\n",
    "\n",
    "a = numpy.full((len(t), len(K)), 0.03)\n",
    "b = numpy.full((len(t), len(K)), 0.2)\n",
    "\n",
    "t=t-t[0]\n",
    "sigma = 0.2\n",
    "\n",
    "t\n",
    "\n",
    "\n"
   ]
  },
  {
   "cell_type": "markdown",
   "metadata": {},
   "source": [
    "$$a = b+c$$"
   ]
  }
 ],
 "metadata": {
  "anaconda-cloud": {},
  "kernelspec": {
   "display_name": "Python [conda root]",
   "language": "python",
   "name": "conda-root-py"
  },
  "language_info": {
   "codemirror_mode": {
    "name": "ipython",
    "version": 2
   },
   "file_extension": ".py",
   "mimetype": "text/x-python",
   "name": "python",
   "nbconvert_exporter": "python",
   "pygments_lexer": "ipython2",
   "version": "2.7.12"
  }
 },
 "nbformat": 4,
 "nbformat_minor": 1
}
