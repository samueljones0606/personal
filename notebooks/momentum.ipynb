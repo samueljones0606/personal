{
 "cells": [
  {
   "cell_type": "code",
   "execution_count": 2,
   "metadata": {},
   "outputs": [],
   "source": [
    "import numpy as np\n",
    "import matplotlib.pyplot as plt\n",
    "import pandas as pd"
   ]
  },
  {
   "cell_type": "code",
   "execution_count": null,
   "metadata": {},
   "outputs": [],
   "source": [
    "# Simulate 10000 paths for 5 years daily sampled with uniformly distribute vol in [5%,50%]\n",
    "t = np.linspace(0,5,5*365)\n",
    "s = np.random.uniform(0.05,0.5,size=10000)\n",
    "dt = pd.Series(t).diff().values\n",
    "dz = pd.DataFrame( np.random.normal(size=(len(t), len(s))) * np.sqrt(dt.reshape(-1,1)) * s.reshape(1,-1) , index=t, columns=s).fillna(0.0)\n",
    "z = dz.cumsum()\n",
    "z.columns = range(len(z.columns))\n",
    "z.std().hist(bins=51,density=True)"
   ]
  },
  {
   "cell_type": "code",
   "execution_count": null,
   "metadata": {},
   "outputs": [],
   "source": [
    "# Compute a 10/30 macd normalised by vol (stddiffx) and by range (stdx)\n",
    "stdx = (z.rolling(10).mean() - z.rolling(30).mean())/z.rolling(365).std()\n",
    "stdxdiff = (z.rolling(10).mean() - z.rolling(30).mean())/(z.diff().rolling(365).std()/np.sqrt(1./365))\n",
    "c = z.rolling(365).std().mean().mean()/(z.diff().rolling(365).std()/np.sqrt(1./365)).mean().mean()"
   ]
  },
  {
   "cell_type": "code",
   "execution_count": null,
   "metadata": {},
   "outputs": [],
   "source": [
    "# Marginal and joint distributions of normalisation factor, and of momentum indicator with either normalisation.\n",
    "# Both are fairly strongly correlated\n",
    "\n",
    "fig, ax = plt.subplots(2,2, figsize=(15,8), squeeze=False)\n",
    "\n",
    "zsd = pd.Series(z.rolling(365).std().values.flatten()).dropna()\n",
    "zsd.hist(bins=51,density=True, alpha=0.4, label=\"stdx\", ax=ax[0,0])\n",
    "dzsd = pd.Series((dz.rolling(365).std()/np.sqrt(1./365.)).values.flatten()).dropna()\n",
    "dzsd.hist(bins=51, density=True, alpha=0.4, label=\"stdxdiff\", ax=ax[0,0])\n",
    "ax[0,0].legend()\n",
    "\n",
    "_tmp = pd.DataFrame({\"stdx\" : zsd.values.flatten(), \"stdxdiff\" : dzsd.values.flatten()}).dropna()\n",
    "_tmp2 = _tmp.sample(1000).dropna()\n",
    "ax[1,0].scatter(_tmp2[\"stdx\"], _tmp2[\"stdxdiff\"])\n",
    "\n",
    "corrsd = _tmp.corr().values[0,1]\n",
    "\n",
    "_tmp = pd.DataFrame({\"stdx\" : stdx.values.flatten(), \"stdxdiff\" : stdxdiff.values.flatten()}).dropna()\n",
    "\n",
    "corrmom = _tmp.corr().values[0,1]\n",
    "_tmp2 = _tmp.sample(1000).dropna()\n",
    "_tmp[\"stdx\"].hist(bins=51, alpha=0.4, label=\"stdx\", density=True, ax=ax[0,1])\n",
    "(_tmp[\"stdxdiff\"]/c).hist(bins=51, alpha=0.4, label=\"stdxdiff\", density=True, ax=ax[0,1])\n",
    "ax[1,1].scatter(_tmp2[\"stdx\"], _tmp2[\"stdxdiff\"])\n",
    "\n",
    "ax[0,0].set_title(\"Marginal distribution of normalisation factors\")\n",
    "ax[1,0].set_title(\"Joint distribution of normalisation factors: corr = {}\".format(corrsd))\n",
    "ax[0,1].set_title(\"Marginal distribution of momentum indicators\")\n",
    "ax[1,1].set_title(\"Joint distribution of momentum indicators: corr = {}\".format(corrmom))"
   ]
  },
  {
   "cell_type": "code",
   "execution_count": null,
   "metadata": {},
   "outputs": [],
   "source": [
    "for i in range(5):\n",
    "    z_ex = z.sample(1, axis=1).iloc[:,0]\n",
    "    fig, ax = plt.subplots(1,2, figsize=(18,4))\n",
    "    z_ex.plot(ax=ax[0], label=\"x\")\n",
    "    (z_ex.rolling(365).mean() + z_ex.rolling(365).std()).plot(ax=ax[0], color=\"C1\", label=\"std(x)\")\n",
    "    (z_ex.rolling(365).mean() - z_ex.rolling(365).std()).plot(ax=ax[0], color=\"C1\", label=\"\")\n",
    "    (z_ex.rolling(365).mean() + z_ex.diff().rolling(365).std()/np.sqrt(1./365)).plot(ax=ax[0], color=\"C2\", label=\"std(x.diff)\")\n",
    "    (z_ex.rolling(365).mean() - z_ex.diff().rolling(365).std()/np.sqrt(1./365)).plot(ax=ax[0], color=\"C2\", label=\"\")\n",
    "    ax[0].legend()\n",
    "\n",
    "    (c*stdx[z_ex.name]).plot(ax=ax[1], color=\"C1\", label=\"std(x)\")\n",
    "    stdxdiff[z_ex.name].plot(ax=ax[1], color=\"C2\", label=\"std(x.diff)\")\n",
    "    ax[1].legend()"
   ]
  },
  {
   "cell_type": "code",
   "execution_count": null,
   "metadata": {},
   "outputs": [],
   "source": []
  }
 ],
 "metadata": {
  "kernelspec": {
   "display_name": "Python 3",
   "language": "python",
   "name": "python3"
  },
  "language_info": {
   "codemirror_mode": {
    "name": "ipython",
    "version": 3
   },
   "file_extension": ".py",
   "mimetype": "text/x-python",
   "name": "python",
   "nbconvert_exporter": "python",
   "pygments_lexer": "ipython3",
   "version": "3.6.7"
  }
 },
 "nbformat": 4,
 "nbformat_minor": 2
}
